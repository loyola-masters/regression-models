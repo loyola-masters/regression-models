{
 "cells": [
  {
   "cell_type": "markdown",
   "metadata": {
    "_uuid": "ae7ce40177087e2e5a2b6614a12a99225d2de094"
   },
   "source": [
    "# Boston Housing with Linear Regression: Normalization\n",
    "**With this data our objective is create a model using linear regression to predict the houses price**\n",
    "\n",
    "The data contains the following columns:\n",
    "* 'crim': per capita crime rate by town.\n",
    "* 'zn': proportion of residential land zoned for lots over 25,000 sq.ft.\n",
    "* 'indus': proportion of non-retail business acres per town.\n",
    "* 'chas':Charles River dummy variable (= 1 if tract bounds river; 0 otherwise).\n",
    "* 'nox': nitrogen oxides concentration (parts per 10 million).\n",
    "* 'rm': average number of rooms per dwelling.\n",
    "* 'age': proportion of owner-occupied units built prior to 1940.\n",
    "* 'dis': weighted mean of distances to five Boston employment centres.\n",
    "* 'rad': index of accessibility to radial highways.\n",
    "* 'tax': full-value property-tax rate per $10,000.\n",
    "* 'ptratio': pupil-teacher ratio by town\n",
    "* 'black': 1000(Bk - 0.63)^2 where Bk is the proportion of blacks by town.\n",
    "* 'lstat': lower status of the population (percent).\n",
    "* 'medv': median value of owner-occupied homes in $$1000s"
   ]
  },
  {
   "cell_type": "markdown",
   "metadata": {
    "_uuid": "c45009768dc91bf48325ee04ab4b696521fc6220"
   },
   "source": [
    "**Let's Start**\n",
    "\n",
    "First we need to prepare our enviroment importing some librarys"
   ]
  },
  {
   "cell_type": "code",
   "execution_count": 1,
   "metadata": {
    "_uuid": "8f144cb466fa1333d41b2356f588ebacba2cab79"
   },
   "outputs": [],
   "source": [
    "import pandas as pd\n",
    "import numpy as np\n",
    "import matplotlib.pyplot as plt\n",
    "import seaborn as sns\n",
    "%matplotlib inline\n",
    "\n",
    "import warnings # supress warnings\n",
    "warnings.filterwarnings('ignore')"
   ]
  },
  {
   "cell_type": "code",
   "execution_count": 2,
   "metadata": {
    "_uuid": "abda91c61669228e1b29c2fcb4816e5fbf114c7a"
   },
   "outputs": [],
   "source": [
    "# Importing DataSet and take a look at Data\n",
    "BostonTrain = pd.read_csv(\"./data/boston_train.csv\")"
   ]
  },
  {
   "cell_type": "markdown",
   "metadata": {
    "_uuid": "3844c8827b4e09d7e3a933976e04631cbdc53aef"
   },
   "source": [
    "** Here we can look at the BostonTrain data **"
   ]
  },
  {
   "cell_type": "code",
   "execution_count": 3,
   "metadata": {
    "_uuid": "c7cb828d2c731ea59a70f6b0a6fb114815fb3bc7",
    "tags": []
   },
   "outputs": [
    {
     "data": {
      "text/html": [
       "<div>\n",
       "<style scoped>\n",
       "    .dataframe tbody tr th:only-of-type {\n",
       "        vertical-align: middle;\n",
       "    }\n",
       "\n",
       "    .dataframe tbody tr th {\n",
       "        vertical-align: top;\n",
       "    }\n",
       "\n",
       "    .dataframe thead th {\n",
       "        text-align: right;\n",
       "    }\n",
       "</style>\n",
       "<table border=\"1\" class=\"dataframe\">\n",
       "  <thead>\n",
       "    <tr style=\"text-align: right;\">\n",
       "      <th></th>\n",
       "      <th>ID</th>\n",
       "      <th>crim</th>\n",
       "      <th>zn</th>\n",
       "      <th>indus</th>\n",
       "      <th>chas</th>\n",
       "      <th>nox</th>\n",
       "      <th>rm</th>\n",
       "      <th>age</th>\n",
       "      <th>dis</th>\n",
       "      <th>rad</th>\n",
       "      <th>tax</th>\n",
       "      <th>ptratio</th>\n",
       "      <th>black</th>\n",
       "      <th>lstat</th>\n",
       "      <th>medv</th>\n",
       "    </tr>\n",
       "  </thead>\n",
       "  <tbody>\n",
       "    <tr>\n",
       "      <th>count</th>\n",
       "      <td>333.000000</td>\n",
       "      <td>333.000000</td>\n",
       "      <td>333.000000</td>\n",
       "      <td>333.000000</td>\n",
       "      <td>333.000000</td>\n",
       "      <td>333.000000</td>\n",
       "      <td>333.000000</td>\n",
       "      <td>333.000000</td>\n",
       "      <td>333.000000</td>\n",
       "      <td>333.000000</td>\n",
       "      <td>333.000000</td>\n",
       "      <td>333.000000</td>\n",
       "      <td>333.000000</td>\n",
       "      <td>333.000000</td>\n",
       "      <td>333.000000</td>\n",
       "    </tr>\n",
       "    <tr>\n",
       "      <th>mean</th>\n",
       "      <td>250.951952</td>\n",
       "      <td>3.360341</td>\n",
       "      <td>10.689189</td>\n",
       "      <td>11.293483</td>\n",
       "      <td>0.060060</td>\n",
       "      <td>0.557144</td>\n",
       "      <td>6.265619</td>\n",
       "      <td>68.226426</td>\n",
       "      <td>3.709934</td>\n",
       "      <td>9.633634</td>\n",
       "      <td>409.279279</td>\n",
       "      <td>18.448048</td>\n",
       "      <td>359.466096</td>\n",
       "      <td>12.515435</td>\n",
       "      <td>22.768769</td>\n",
       "    </tr>\n",
       "    <tr>\n",
       "      <th>std</th>\n",
       "      <td>147.859438</td>\n",
       "      <td>7.352272</td>\n",
       "      <td>22.674762</td>\n",
       "      <td>6.998123</td>\n",
       "      <td>0.237956</td>\n",
       "      <td>0.114955</td>\n",
       "      <td>0.703952</td>\n",
       "      <td>28.133344</td>\n",
       "      <td>1.981123</td>\n",
       "      <td>8.742174</td>\n",
       "      <td>170.841988</td>\n",
       "      <td>2.151821</td>\n",
       "      <td>86.584567</td>\n",
       "      <td>7.067781</td>\n",
       "      <td>9.173468</td>\n",
       "    </tr>\n",
       "    <tr>\n",
       "      <th>min</th>\n",
       "      <td>1.000000</td>\n",
       "      <td>0.006320</td>\n",
       "      <td>0.000000</td>\n",
       "      <td>0.740000</td>\n",
       "      <td>0.000000</td>\n",
       "      <td>0.385000</td>\n",
       "      <td>3.561000</td>\n",
       "      <td>6.000000</td>\n",
       "      <td>1.129600</td>\n",
       "      <td>1.000000</td>\n",
       "      <td>188.000000</td>\n",
       "      <td>12.600000</td>\n",
       "      <td>3.500000</td>\n",
       "      <td>1.730000</td>\n",
       "      <td>5.000000</td>\n",
       "    </tr>\n",
       "    <tr>\n",
       "      <th>25%</th>\n",
       "      <td>123.000000</td>\n",
       "      <td>0.078960</td>\n",
       "      <td>0.000000</td>\n",
       "      <td>5.130000</td>\n",
       "      <td>0.000000</td>\n",
       "      <td>0.453000</td>\n",
       "      <td>5.884000</td>\n",
       "      <td>45.400000</td>\n",
       "      <td>2.122400</td>\n",
       "      <td>4.000000</td>\n",
       "      <td>279.000000</td>\n",
       "      <td>17.400000</td>\n",
       "      <td>376.730000</td>\n",
       "      <td>7.180000</td>\n",
       "      <td>17.400000</td>\n",
       "    </tr>\n",
       "    <tr>\n",
       "      <th>50%</th>\n",
       "      <td>244.000000</td>\n",
       "      <td>0.261690</td>\n",
       "      <td>0.000000</td>\n",
       "      <td>9.900000</td>\n",
       "      <td>0.000000</td>\n",
       "      <td>0.538000</td>\n",
       "      <td>6.202000</td>\n",
       "      <td>76.700000</td>\n",
       "      <td>3.092300</td>\n",
       "      <td>5.000000</td>\n",
       "      <td>330.000000</td>\n",
       "      <td>19.000000</td>\n",
       "      <td>392.050000</td>\n",
       "      <td>10.970000</td>\n",
       "      <td>21.600000</td>\n",
       "    </tr>\n",
       "    <tr>\n",
       "      <th>75%</th>\n",
       "      <td>377.000000</td>\n",
       "      <td>3.678220</td>\n",
       "      <td>12.500000</td>\n",
       "      <td>18.100000</td>\n",
       "      <td>0.000000</td>\n",
       "      <td>0.631000</td>\n",
       "      <td>6.595000</td>\n",
       "      <td>93.800000</td>\n",
       "      <td>5.116700</td>\n",
       "      <td>24.000000</td>\n",
       "      <td>666.000000</td>\n",
       "      <td>20.200000</td>\n",
       "      <td>396.240000</td>\n",
       "      <td>16.420000</td>\n",
       "      <td>25.000000</td>\n",
       "    </tr>\n",
       "    <tr>\n",
       "      <th>max</th>\n",
       "      <td>506.000000</td>\n",
       "      <td>73.534100</td>\n",
       "      <td>100.000000</td>\n",
       "      <td>27.740000</td>\n",
       "      <td>1.000000</td>\n",
       "      <td>0.871000</td>\n",
       "      <td>8.725000</td>\n",
       "      <td>100.000000</td>\n",
       "      <td>10.710300</td>\n",
       "      <td>24.000000</td>\n",
       "      <td>711.000000</td>\n",
       "      <td>21.200000</td>\n",
       "      <td>396.900000</td>\n",
       "      <td>37.970000</td>\n",
       "      <td>50.000000</td>\n",
       "    </tr>\n",
       "  </tbody>\n",
       "</table>\n",
       "</div>"
      ],
      "text/plain": [
       "               ID        crim          zn       indus        chas         nox   \n",
       "count  333.000000  333.000000  333.000000  333.000000  333.000000  333.000000  \\\n",
       "mean   250.951952    3.360341   10.689189   11.293483    0.060060    0.557144   \n",
       "std    147.859438    7.352272   22.674762    6.998123    0.237956    0.114955   \n",
       "min      1.000000    0.006320    0.000000    0.740000    0.000000    0.385000   \n",
       "25%    123.000000    0.078960    0.000000    5.130000    0.000000    0.453000   \n",
       "50%    244.000000    0.261690    0.000000    9.900000    0.000000    0.538000   \n",
       "75%    377.000000    3.678220   12.500000   18.100000    0.000000    0.631000   \n",
       "max    506.000000   73.534100  100.000000   27.740000    1.000000    0.871000   \n",
       "\n",
       "               rm         age         dis         rad         tax     ptratio   \n",
       "count  333.000000  333.000000  333.000000  333.000000  333.000000  333.000000  \\\n",
       "mean     6.265619   68.226426    3.709934    9.633634  409.279279   18.448048   \n",
       "std      0.703952   28.133344    1.981123    8.742174  170.841988    2.151821   \n",
       "min      3.561000    6.000000    1.129600    1.000000  188.000000   12.600000   \n",
       "25%      5.884000   45.400000    2.122400    4.000000  279.000000   17.400000   \n",
       "50%      6.202000   76.700000    3.092300    5.000000  330.000000   19.000000   \n",
       "75%      6.595000   93.800000    5.116700   24.000000  666.000000   20.200000   \n",
       "max      8.725000  100.000000   10.710300   24.000000  711.000000   21.200000   \n",
       "\n",
       "            black       lstat        medv  \n",
       "count  333.000000  333.000000  333.000000  \n",
       "mean   359.466096   12.515435   22.768769  \n",
       "std     86.584567    7.067781    9.173468  \n",
       "min      3.500000    1.730000    5.000000  \n",
       "25%    376.730000    7.180000   17.400000  \n",
       "50%    392.050000   10.970000   21.600000  \n",
       "75%    396.240000   16.420000   25.000000  \n",
       "max    396.900000   37.970000   50.000000  "
      ]
     },
     "execution_count": 3,
     "metadata": {},
     "output_type": "execute_result"
    }
   ],
   "source": [
    "#BostonTrain.head()\n",
    "#BostonTrain.info()\n",
    "BostonTrain.describe()"
   ]
  },
  {
   "cell_type": "markdown",
   "metadata": {
    "_uuid": "ac3e2547686ed620ba4749ef6f81635b1e5595a1"
   },
   "source": [
    "** Now, or goal is think about the columns, and discovery which columns is relevant to build our model, because if we consider to put columns with not relevant  with our objective \"medv\" the model may be not efficient **"
   ]
  },
  {
   "cell_type": "code",
   "execution_count": 4,
   "metadata": {
    "_uuid": "cbd32d564bbe45167243ce0b35d80781b18b94d4"
   },
   "outputs": [],
   "source": [
    "#ID columns does not relevant for our analysis.\n",
    "BostonTrain.drop('ID', axis = 1, inplace=True)"
   ]
  },
  {
   "cell_type": "markdown",
   "metadata": {},
   "source": [
    "**Define X and Y**\n",
    "- X: Variables named as predictors, independent variables, features.                                                               \n",
    "- Y: Variable named as response or dependent variable"
   ]
  },
  {
   "cell_type": "code",
   "execution_count": 5,
   "metadata": {
    "_uuid": "47d0ed5d507fe7a9a077acbf9c21b9c096a21df4",
    "tags": []
   },
   "outputs": [],
   "source": [
    "X = BostonTrain[['crim', 'zn', 'indus', 'chas', 'nox', 'rm', 'age', 'dis', 'rad', 'tax',\n",
    "       'ptratio', 'black', 'lstat']]\n",
    "y = BostonTrain['medv']"
   ]
  },
  {
   "cell_type": "markdown",
   "metadata": {},
   "source": [
    "If you don't specify the random_state in the code, then every time you run(execute) your code a new random value is generated and the train and test datasets would have different values each time."
   ]
  },
  {
   "cell_type": "markdown",
   "metadata": {},
   "source": [
    "## Scale train and test sets"
   ]
  },
  {
   "cell_type": "markdown",
   "metadata": {
    "_uuid": "e87bcf2fb6095a399423b93737f272861b85a24c"
   },
   "source": [
    "**Import sklearn libraries:**    \n",
    "- `train_test_split`, to split our data in two DF, one for build a model and other to validate\n",
    "- `MinMaxScaler` to normalize the features\n",
    "- `LinearRegression`, to build the model"
   ]
  },
  {
   "cell_type": "code",
   "execution_count": 6,
   "metadata": {
    "_uuid": "fe5a0141e68ec9e0d98b248bd0697ad8339df864"
   },
   "outputs": [],
   "source": [
    "from sklearn.model_selection import train_test_split\n",
    "from sklearn.preprocessing import MinMaxScaler\n",
    "from sklearn.preprocessing import StandardScaler\n",
    "from sklearn.linear_model import LinearRegression"
   ]
  },
  {
   "cell_type": "code",
   "execution_count": 7,
   "metadata": {
    "_uuid": "0fff1e5da66d42245e19fc0265eeefbb840812e3"
   },
   "outputs": [],
   "source": [
    "X_train, X_test, y_train, y_test = train_test_split(X, y, test_size=0.4, random_state = 10)"
   ]
  },
  {
   "cell_type": "markdown",
   "metadata": {},
   "source": [
    "Rescale the features in the **train set** and the **test set**:"
   ]
  },
  {
   "cell_type": "code",
   "execution_count": 8,
   "metadata": {},
   "outputs": [],
   "source": [
    "cols = X.columns\n",
    "scaler = MinMaxScaler()\n",
    "X_train_sc = pd.DataFrame(scaler.fit_transform(X_train), columns=cols)\n",
    "X_test_sc = pd.DataFrame(scaler.transform(X_test), columns=cols)"
   ]
  },
  {
   "cell_type": "code",
   "execution_count": 9,
   "metadata": {},
   "outputs": [
    {
     "data": {
      "text/html": [
       "<div>\n",
       "<style scoped>\n",
       "    .dataframe tbody tr th:only-of-type {\n",
       "        vertical-align: middle;\n",
       "    }\n",
       "\n",
       "    .dataframe tbody tr th {\n",
       "        vertical-align: top;\n",
       "    }\n",
       "\n",
       "    .dataframe thead th {\n",
       "        text-align: right;\n",
       "    }\n",
       "</style>\n",
       "<table border=\"1\" class=\"dataframe\">\n",
       "  <thead>\n",
       "    <tr style=\"text-align: right;\">\n",
       "      <th></th>\n",
       "      <th>crim</th>\n",
       "      <th>zn</th>\n",
       "      <th>indus</th>\n",
       "      <th>chas</th>\n",
       "      <th>nox</th>\n",
       "      <th>rm</th>\n",
       "      <th>age</th>\n",
       "      <th>dis</th>\n",
       "      <th>rad</th>\n",
       "      <th>tax</th>\n",
       "      <th>ptratio</th>\n",
       "      <th>black</th>\n",
       "      <th>lstat</th>\n",
       "    </tr>\n",
       "  </thead>\n",
       "  <tbody>\n",
       "    <tr>\n",
       "      <th>count</th>\n",
       "      <td>199.000000</td>\n",
       "      <td>199.000000</td>\n",
       "      <td>199.000000</td>\n",
       "      <td>199.000000</td>\n",
       "      <td>199.000000</td>\n",
       "      <td>199.000000</td>\n",
       "      <td>199.000000</td>\n",
       "      <td>199.000000</td>\n",
       "      <td>199.000000</td>\n",
       "      <td>199.000000</td>\n",
       "      <td>199.000000</td>\n",
       "      <td>199.000000</td>\n",
       "      <td>199.000000</td>\n",
       "    </tr>\n",
       "    <tr>\n",
       "      <th>mean</th>\n",
       "      <td>0.051307</td>\n",
       "      <td>0.093785</td>\n",
       "      <td>0.396294</td>\n",
       "      <td>0.050251</td>\n",
       "      <td>0.367942</td>\n",
       "      <td>0.552820</td>\n",
       "      <td>0.691682</td>\n",
       "      <td>0.254911</td>\n",
       "      <td>0.408128</td>\n",
       "      <td>0.439780</td>\n",
       "      <td>0.688013</td>\n",
       "      <td>0.900145</td>\n",
       "      <td>0.309062</td>\n",
       "    </tr>\n",
       "    <tr>\n",
       "      <th>std</th>\n",
       "      <td>0.108065</td>\n",
       "      <td>0.207061</td>\n",
       "      <td>0.264394</td>\n",
       "      <td>0.219014</td>\n",
       "      <td>0.228470</td>\n",
       "      <td>0.145870</td>\n",
       "      <td>0.292169</td>\n",
       "      <td>0.206877</td>\n",
       "      <td>0.395228</td>\n",
       "      <td>0.335175</td>\n",
       "      <td>0.261111</td>\n",
       "      <td>0.223831</td>\n",
       "      <td>0.191216</td>\n",
       "    </tr>\n",
       "    <tr>\n",
       "      <th>min</th>\n",
       "      <td>0.000000</td>\n",
       "      <td>0.000000</td>\n",
       "      <td>0.000000</td>\n",
       "      <td>0.000000</td>\n",
       "      <td>0.000000</td>\n",
       "      <td>0.000000</td>\n",
       "      <td>0.000000</td>\n",
       "      <td>0.000000</td>\n",
       "      <td>0.000000</td>\n",
       "      <td>0.000000</td>\n",
       "      <td>0.000000</td>\n",
       "      <td>0.000000</td>\n",
       "      <td>0.000000</td>\n",
       "    </tr>\n",
       "    <tr>\n",
       "      <th>25%</th>\n",
       "      <td>0.001156</td>\n",
       "      <td>0.000000</td>\n",
       "      <td>0.165723</td>\n",
       "      <td>0.000000</td>\n",
       "      <td>0.179012</td>\n",
       "      <td>0.478396</td>\n",
       "      <td>0.496277</td>\n",
       "      <td>0.099987</td>\n",
       "      <td>0.130435</td>\n",
       "      <td>0.180688</td>\n",
       "      <td>0.536585</td>\n",
       "      <td>0.946078</td>\n",
       "      <td>0.159630</td>\n",
       "    </tr>\n",
       "    <tr>\n",
       "      <th>50%</th>\n",
       "      <td>0.005111</td>\n",
       "      <td>0.000000</td>\n",
       "      <td>0.326538</td>\n",
       "      <td>0.000000</td>\n",
       "      <td>0.314815</td>\n",
       "      <td>0.537730</td>\n",
       "      <td>0.786170</td>\n",
       "      <td>0.177899</td>\n",
       "      <td>0.173913</td>\n",
       "      <td>0.284895</td>\n",
       "      <td>0.743902</td>\n",
       "      <td>0.986802</td>\n",
       "      <td>0.284492</td>\n",
       "    </tr>\n",
       "    <tr>\n",
       "      <th>75%</th>\n",
       "      <td>0.065114</td>\n",
       "      <td>0.000000</td>\n",
       "      <td>0.636089</td>\n",
       "      <td>0.000000</td>\n",
       "      <td>0.539095</td>\n",
       "      <td>0.627042</td>\n",
       "      <td>0.943085</td>\n",
       "      <td>0.364728</td>\n",
       "      <td>1.000000</td>\n",
       "      <td>0.913958</td>\n",
       "      <td>0.878049</td>\n",
       "      <td>0.997495</td>\n",
       "      <td>0.429498</td>\n",
       "    </tr>\n",
       "    <tr>\n",
       "      <th>max</th>\n",
       "      <td>1.000000</td>\n",
       "      <td>1.000000</td>\n",
       "      <td>1.000000</td>\n",
       "      <td>1.000000</td>\n",
       "      <td>1.000000</td>\n",
       "      <td>1.000000</td>\n",
       "      <td>1.000000</td>\n",
       "      <td>1.000000</td>\n",
       "      <td>1.000000</td>\n",
       "      <td>1.000000</td>\n",
       "      <td>1.000000</td>\n",
       "      <td>1.000000</td>\n",
       "      <td>1.000000</td>\n",
       "    </tr>\n",
       "  </tbody>\n",
       "</table>\n",
       "</div>"
      ],
      "text/plain": [
       "             crim          zn       indus        chas         nox          rm   \n",
       "count  199.000000  199.000000  199.000000  199.000000  199.000000  199.000000  \\\n",
       "mean     0.051307    0.093785    0.396294    0.050251    0.367942    0.552820   \n",
       "std      0.108065    0.207061    0.264394    0.219014    0.228470    0.145870   \n",
       "min      0.000000    0.000000    0.000000    0.000000    0.000000    0.000000   \n",
       "25%      0.001156    0.000000    0.165723    0.000000    0.179012    0.478396   \n",
       "50%      0.005111    0.000000    0.326538    0.000000    0.314815    0.537730   \n",
       "75%      0.065114    0.000000    0.636089    0.000000    0.539095    0.627042   \n",
       "max      1.000000    1.000000    1.000000    1.000000    1.000000    1.000000   \n",
       "\n",
       "              age         dis         rad         tax     ptratio       black   \n",
       "count  199.000000  199.000000  199.000000  199.000000  199.000000  199.000000  \\\n",
       "mean     0.691682    0.254911    0.408128    0.439780    0.688013    0.900145   \n",
       "std      0.292169    0.206877    0.395228    0.335175    0.261111    0.223831   \n",
       "min      0.000000    0.000000    0.000000    0.000000    0.000000    0.000000   \n",
       "25%      0.496277    0.099987    0.130435    0.180688    0.536585    0.946078   \n",
       "50%      0.786170    0.177899    0.173913    0.284895    0.743902    0.986802   \n",
       "75%      0.943085    0.364728    1.000000    0.913958    0.878049    0.997495   \n",
       "max      1.000000    1.000000    1.000000    1.000000    1.000000    1.000000   \n",
       "\n",
       "            lstat  \n",
       "count  199.000000  \n",
       "mean     0.309062  \n",
       "std      0.191216  \n",
       "min      0.000000  \n",
       "25%      0.159630  \n",
       "50%      0.284492  \n",
       "75%      0.429498  \n",
       "max      1.000000  "
      ]
     },
     "execution_count": 9,
     "metadata": {},
     "output_type": "execute_result"
    }
   ],
   "source": [
    "X_train_sc.describe()"
   ]
  },
  {
   "cell_type": "code",
   "execution_count": 10,
   "metadata": {},
   "outputs": [
    {
     "data": {
      "text/html": [
       "<div>\n",
       "<style scoped>\n",
       "    .dataframe tbody tr th:only-of-type {\n",
       "        vertical-align: middle;\n",
       "    }\n",
       "\n",
       "    .dataframe tbody tr th {\n",
       "        vertical-align: top;\n",
       "    }\n",
       "\n",
       "    .dataframe thead th {\n",
       "        text-align: right;\n",
       "    }\n",
       "</style>\n",
       "<table border=\"1\" class=\"dataframe\">\n",
       "  <thead>\n",
       "    <tr style=\"text-align: right;\">\n",
       "      <th></th>\n",
       "      <th>crim</th>\n",
       "      <th>zn</th>\n",
       "      <th>indus</th>\n",
       "      <th>chas</th>\n",
       "      <th>nox</th>\n",
       "      <th>rm</th>\n",
       "      <th>age</th>\n",
       "      <th>dis</th>\n",
       "      <th>rad</th>\n",
       "      <th>tax</th>\n",
       "      <th>ptratio</th>\n",
       "      <th>black</th>\n",
       "      <th>lstat</th>\n",
       "    </tr>\n",
       "  </thead>\n",
       "  <tbody>\n",
       "    <tr>\n",
       "      <th>count</th>\n",
       "      <td>134.000000</td>\n",
       "      <td>134.000000</td>\n",
       "      <td>134.000000</td>\n",
       "      <td>134.000000</td>\n",
       "      <td>134.000000</td>\n",
       "      <td>134.000000</td>\n",
       "      <td>134.000000</td>\n",
       "      <td>134.000000</td>\n",
       "      <td>134.000000</td>\n",
       "      <td>134.000000</td>\n",
       "      <td>134.000000</td>\n",
       "      <td>134.000000</td>\n",
       "      <td>134.000000</td>\n",
       "    </tr>\n",
       "    <tr>\n",
       "      <th>mean</th>\n",
       "      <td>0.037164</td>\n",
       "      <td>0.140338</td>\n",
       "      <td>0.353670</td>\n",
       "      <td>0.074627</td>\n",
       "      <td>0.333808</td>\n",
       "      <td>0.568556</td>\n",
       "      <td>0.617879</td>\n",
       "      <td>0.290733</td>\n",
       "      <td>0.326736</td>\n",
       "      <td>0.398319</td>\n",
       "      <td>0.629323</td>\n",
       "      <td>0.911735</td>\n",
       "      <td>0.280606</td>\n",
       "    </tr>\n",
       "    <tr>\n",
       "      <th>std</th>\n",
       "      <td>0.086332</td>\n",
       "      <td>0.277625</td>\n",
       "      <td>0.262780</td>\n",
       "      <td>0.263774</td>\n",
       "      <td>0.247482</td>\n",
       "      <td>0.145069</td>\n",
       "      <td>0.305353</td>\n",
       "      <td>0.205548</td>\n",
       "      <td>0.352282</td>\n",
       "      <td>0.313178</td>\n",
       "      <td>0.261390</td>\n",
       "      <td>0.215281</td>\n",
       "      <td>0.200064</td>\n",
       "    </tr>\n",
       "    <tr>\n",
       "      <th>min</th>\n",
       "      <td>0.000063</td>\n",
       "      <td>0.000000</td>\n",
       "      <td>-0.019253</td>\n",
       "      <td>0.000000</td>\n",
       "      <td>0.008230</td>\n",
       "      <td>0.166839</td>\n",
       "      <td>0.002128</td>\n",
       "      <td>0.004655</td>\n",
       "      <td>0.000000</td>\n",
       "      <td>0.009560</td>\n",
       "      <td>-0.048780</td>\n",
       "      <td>-0.000381</td>\n",
       "      <td>0.031733</td>\n",
       "    </tr>\n",
       "    <tr>\n",
       "      <th>25%</th>\n",
       "      <td>0.000742</td>\n",
       "      <td>0.000000</td>\n",
       "      <td>0.125802</td>\n",
       "      <td>0.000000</td>\n",
       "      <td>0.131687</td>\n",
       "      <td>0.492764</td>\n",
       "      <td>0.363298</td>\n",
       "      <td>0.118895</td>\n",
       "      <td>0.130435</td>\n",
       "      <td>0.170172</td>\n",
       "      <td>0.475610</td>\n",
       "      <td>0.949638</td>\n",
       "      <td>0.134520</td>\n",
       "    </tr>\n",
       "    <tr>\n",
       "      <th>50%</th>\n",
       "      <td>0.002784</td>\n",
       "      <td>0.000000</td>\n",
       "      <td>0.275953</td>\n",
       "      <td>0.000000</td>\n",
       "      <td>0.270576</td>\n",
       "      <td>0.555303</td>\n",
       "      <td>0.641489</td>\n",
       "      <td>0.261343</td>\n",
       "      <td>0.173913</td>\n",
       "      <td>0.269598</td>\n",
       "      <td>0.664634</td>\n",
       "      <td>0.989002</td>\n",
       "      <td>0.232202</td>\n",
       "    </tr>\n",
       "    <tr>\n",
       "      <th>75%</th>\n",
       "      <td>0.029621</td>\n",
       "      <td>0.210526</td>\n",
       "      <td>0.636089</td>\n",
       "      <td>0.000000</td>\n",
       "      <td>0.471193</td>\n",
       "      <td>0.632417</td>\n",
       "      <td>0.907979</td>\n",
       "      <td>0.426308</td>\n",
       "      <td>0.260870</td>\n",
       "      <td>0.476099</td>\n",
       "      <td>0.878049</td>\n",
       "      <td>0.999695</td>\n",
       "      <td>0.367274</td>\n",
       "    </tr>\n",
       "    <tr>\n",
       "      <th>max</th>\n",
       "      <td>0.521510</td>\n",
       "      <td>1.052632</td>\n",
       "      <td>1.000000</td>\n",
       "      <td>1.000000</td>\n",
       "      <td>1.000000</td>\n",
       "      <td>1.067604</td>\n",
       "      <td>1.000000</td>\n",
       "      <td>0.841066</td>\n",
       "      <td>1.000000</td>\n",
       "      <td>1.000000</td>\n",
       "      <td>1.000000</td>\n",
       "      <td>1.000000</td>\n",
       "      <td>0.911700</td>\n",
       "    </tr>\n",
       "  </tbody>\n",
       "</table>\n",
       "</div>"
      ],
      "text/plain": [
       "             crim          zn       indus        chas         nox          rm   \n",
       "count  134.000000  134.000000  134.000000  134.000000  134.000000  134.000000  \\\n",
       "mean     0.037164    0.140338    0.353670    0.074627    0.333808    0.568556   \n",
       "std      0.086332    0.277625    0.262780    0.263774    0.247482    0.145069   \n",
       "min      0.000063    0.000000   -0.019253    0.000000    0.008230    0.166839   \n",
       "25%      0.000742    0.000000    0.125802    0.000000    0.131687    0.492764   \n",
       "50%      0.002784    0.000000    0.275953    0.000000    0.270576    0.555303   \n",
       "75%      0.029621    0.210526    0.636089    0.000000    0.471193    0.632417   \n",
       "max      0.521510    1.052632    1.000000    1.000000    1.000000    1.067604   \n",
       "\n",
       "              age         dis         rad         tax     ptratio       black   \n",
       "count  134.000000  134.000000  134.000000  134.000000  134.000000  134.000000  \\\n",
       "mean     0.617879    0.290733    0.326736    0.398319    0.629323    0.911735   \n",
       "std      0.305353    0.205548    0.352282    0.313178    0.261390    0.215281   \n",
       "min      0.002128    0.004655    0.000000    0.009560   -0.048780   -0.000381   \n",
       "25%      0.363298    0.118895    0.130435    0.170172    0.475610    0.949638   \n",
       "50%      0.641489    0.261343    0.173913    0.269598    0.664634    0.989002   \n",
       "75%      0.907979    0.426308    0.260870    0.476099    0.878049    0.999695   \n",
       "max      1.000000    0.841066    1.000000    1.000000    1.000000    1.000000   \n",
       "\n",
       "            lstat  \n",
       "count  134.000000  \n",
       "mean     0.280606  \n",
       "std      0.200064  \n",
       "min      0.031733  \n",
       "25%      0.134520  \n",
       "50%      0.232202  \n",
       "75%      0.367274  \n",
       "max      0.911700  "
      ]
     },
     "execution_count": 10,
     "metadata": {},
     "output_type": "execute_result"
    }
   ],
   "source": [
    "X_test_sc.describe()"
   ]
  },
  {
   "cell_type": "markdown",
   "metadata": {},
   "source": [
    "[What and why behind fit_transform() and transform() in scikit-learn]()"
   ]
  },
  {
   "cell_type": "markdown",
   "metadata": {
    "_uuid": "908c140881f1efd1fb83e0d77283629868408fb4"
   },
   "source": [
    "## Training with Regression Algorithm"
   ]
  },
  {
   "cell_type": "code",
   "execution_count": 11,
   "metadata": {
    "_uuid": "af6124c5bfc498be6a185b8fcbcf4cd0a257580f"
   },
   "outputs": [
    {
     "data": {
      "text/plain": [
       "LinearRegression()"
      ]
     },
     "execution_count": 11,
     "metadata": {},
     "output_type": "execute_result"
    }
   ],
   "source": [
    "lm = LinearRegression()\n",
    "lm.fit(X_train_sc,y_train)"
   ]
  },
  {
   "cell_type": "code",
   "execution_count": 12,
   "metadata": {
    "_uuid": "6958dc7a17561e023f9e7a7bf8ccc720a9d46791"
   },
   "outputs": [],
   "source": [
    "predictions = lm.predict(X_test_sc)"
   ]
  },
  {
   "cell_type": "code",
   "execution_count": 13,
   "metadata": {
    "_uuid": "6ef1b6f478affeb96531241641ed3a2143d98f98"
   },
   "outputs": [
    {
     "data": {
      "image/png": "[encoded data removed]",
      "text/plain": [
       "<Figure size 576x504 with 1 Axes>"
      ]
     },
     "metadata": {
      "needs_background": "light"
     },
     "output_type": "display_data"
    }
   ],
   "source": [
    "plt.rcParams[\"figure.figsize\"] = (8,7)\n",
    "plt.xlabel('Y Test')\n",
    "plt.ylabel('Predicted Y')\n",
    "plt.xlim([0, 11*int(max(y_test)/10)])\n",
    "plt.ylim([0, 11*int(max(y_test))/10])\n",
    "plt.scatter(y_test,predictions,s=20,marker=\"x\")\n",
    "\n",
    "x = np.linspace(0, 11*int(max(y_test)/10), 2*int(max(y_test)))\n",
    "plt.scatter(x, x,s=1);"
   ]
  },
  {
   "cell_type": "code",
   "execution_count": 14,
   "metadata": {
    "_uuid": "7c77b4a60b955b84dbaa7a5d9355e80bd9708a9c"
   },
   "outputs": [
    {
     "name": "stdout",
     "output_type": "stream",
     "text": [
      "MAE: 3.7497651896788318\n",
      "MSE: 25.617468730661944\n",
      "RMSE: 5.061370242400959\n"
     ]
    }
   ],
   "source": [
    "from sklearn import metrics\n",
    "\n",
    "print('MAE:', metrics.mean_absolute_error(y_test, predictions))\n",
    "print('MSE:', metrics.mean_squared_error(y_test, predictions))\n",
    "print('RMSE:', np.sqrt(metrics.mean_squared_error(y_test, predictions)))"
   ]
  },
  {
   "cell_type": "markdown",
   "metadata": {
    "_uuid": "04ca7df4c9fd368edc0a73d35c0373c5495cc827"
   },
   "source": [
    "Considering the RMSE: we can conclude that  this model average error is RMSE at medv, which means RMSE *1000  in money"
   ]
  },
  {
   "cell_type": "markdown",
   "metadata": {},
   "source": [
    "**[1] Determination coefficient**\n",
    "\n",
    "r^2 is the proportion of the variance explained by the predictive variables (= square of Pearson coefficient)"
   ]
  },
  {
   "cell_type": "code",
   "execution_count": 15,
   "metadata": {},
   "outputs": [
    {
     "data": {
      "text/plain": [
       "0.7232304288222565"
      ]
     },
     "execution_count": 15,
     "metadata": {},
     "output_type": "execute_result"
    }
   ],
   "source": [
    "lm.score(X_train_sc,y_train)"
   ]
  },
  {
   "cell_type": "markdown",
   "metadata": {},
   "source": [
    "**[2] Intercept of the fitted line**"
   ]
  },
  {
   "cell_type": "code",
   "execution_count": 16,
   "metadata": {},
   "outputs": [
    {
     "data": {
      "text/plain": [
       "27.70333141720431"
      ]
     },
     "execution_count": 16,
     "metadata": {},
     "output_type": "execute_result"
    }
   ],
   "source": [
    "lm.intercept_"
   ]
  },
  {
   "cell_type": "markdown",
   "metadata": {},
   "source": [
    "**[3] Hyperplane slopes** (= linear regression coefficients):"
   ]
  },
  {
   "cell_type": "code",
   "execution_count": 17,
   "metadata": {
    "_uuid": "f736d8c60487e925c4d2fa21537e83637abe9378"
   },
   "outputs": [
    {
     "data": {
      "text/html": [
       "<div>\n",
       "<style scoped>\n",
       "    .dataframe tbody tr th:only-of-type {\n",
       "        vertical-align: middle;\n",
       "    }\n",
       "\n",
       "    .dataframe tbody tr th {\n",
       "        vertical-align: top;\n",
       "    }\n",
       "\n",
       "    .dataframe thead th {\n",
       "        text-align: right;\n",
       "    }\n",
       "</style>\n",
       "<table border=\"1\" class=\"dataframe\">\n",
       "  <thead>\n",
       "    <tr style=\"text-align: right;\">\n",
       "      <th></th>\n",
       "      <th>coefficients</th>\n",
       "    </tr>\n",
       "  </thead>\n",
       "  <tbody>\n",
       "    <tr>\n",
       "      <th>crim</th>\n",
       "      <td>0.937678</td>\n",
       "    </tr>\n",
       "    <tr>\n",
       "      <th>zn</th>\n",
       "      <td>5.325871</td>\n",
       "    </tr>\n",
       "    <tr>\n",
       "      <th>indus</th>\n",
       "      <td>1.959600</td>\n",
       "    </tr>\n",
       "    <tr>\n",
       "      <th>chas</th>\n",
       "      <td>3.898464</td>\n",
       "    </tr>\n",
       "    <tr>\n",
       "      <th>nox</th>\n",
       "      <td>-8.692809</td>\n",
       "    </tr>\n",
       "    <tr>\n",
       "      <th>rm</th>\n",
       "      <td>10.600863</td>\n",
       "    </tr>\n",
       "    <tr>\n",
       "      <th>age</th>\n",
       "      <td>5.012363</td>\n",
       "    </tr>\n",
       "    <tr>\n",
       "      <th>dis</th>\n",
       "      <td>-11.138074</td>\n",
       "    </tr>\n",
       "    <tr>\n",
       "      <th>rad</th>\n",
       "      <td>7.793351</td>\n",
       "    </tr>\n",
       "    <tr>\n",
       "      <th>tax</th>\n",
       "      <td>-7.073848</td>\n",
       "    </tr>\n",
       "    <tr>\n",
       "      <th>ptratio</th>\n",
       "      <td>-7.704166</td>\n",
       "    </tr>\n",
       "    <tr>\n",
       "      <th>black</th>\n",
       "      <td>4.862274</td>\n",
       "    </tr>\n",
       "    <tr>\n",
       "      <th>lstat</th>\n",
       "      <td>-29.755155</td>\n",
       "    </tr>\n",
       "  </tbody>\n",
       "</table>\n",
       "</div>"
      ],
      "text/plain": [
       "         coefficients\n",
       "crim         0.937678\n",
       "zn           5.325871\n",
       "indus        1.959600\n",
       "chas         3.898464\n",
       "nox         -8.692809\n",
       "rm          10.600863\n",
       "age          5.012363\n",
       "dis        -11.138074\n",
       "rad          7.793351\n",
       "tax         -7.073848\n",
       "ptratio     -7.704166\n",
       "black        4.862274\n",
       "lstat      -29.755155"
      ]
     },
     "execution_count": 17,
     "metadata": {},
     "output_type": "execute_result"
    }
   ],
   "source": [
    "coefficients = pd.DataFrame(lm.coef_,X.columns)\n",
    "coefficients.columns = ['coefficients']\n",
    "coefficients"
   ]
  },
  {
   "cell_type": "markdown",
   "metadata": {
    "_uuid": "dddd7fdc5cd51e90e9c1774c4705e4d3d6b156b0"
   },
   "source": [
    "How to interpret those coefficients:\n",
    "    they are in function of Medv, so \n",
    "    \n",
    "    - for one unit that nox increase, the house value decrease 'nox'*1000 (Negative correlation) money unit\n",
    "    - for one unit that rm increase, the house value increase 'rm'*1000 (Positive correlation) money unit.\n",
    "    \n",
    "\n",
    ">Price prediction error is `medv*1000` because the medv is expressed in thousands of dollars"
   ]
  }
 ],
 "metadata": {
  "kernelspec": {
   "display_name": "Python 3 (ipykernel)",
   "language": "python",
   "name": "python3"
  },
  "language_info": {
   "codemirror_mode": {
    "name": "ipython",
    "version": 3
   },
   "file_extension": ".py",
   "mimetype": "text/x-python",
   "name": "python",
   "nbconvert_exporter": "python",
   "pygments_lexer": "ipython3",
   "version": "3.9.12"
  },
  "vscode": {
   "interpreter": {
    "hash": "aee8b7b246df8f9039afb4144a1f6fd8d2ca17a180786b69acc140d282b71a49"
   }
  }
 },
 "nbformat": 4,
 "nbformat_minor": 4
}
