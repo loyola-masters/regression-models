{
 "cells": [
  {
   "cell_type": "markdown",
   "metadata": {},
   "source": [
    "Linear regression is a **supervised learining** algorithm used when target / dependent variable  **continues** real number. It establishes relationship between dependent variable $y$ and one or more independent variable $x$ using best fit line.   It work on the principle of ordinary least square $(OLS)$ / Mean square errror $(MSE)$. In statistics ols is method to estimated unkown parameter of linear regression function, it's goal is to minimize sum of square difference between observed dependent variable in the given data set and those predicted by linear regression fuction. \n",
    "\n",
    "## Hypothesis representation\n",
    "\n",
    "We will use $\\mathbf{x_i}$ to denote the independent variable and $\\mathbf{y_i}$ to denote dependent variable. A pair of $\\mathbf{(x_i,y_i)}$ is called training example. The subscripe $\\mathbf{i}$ in the notation is simply index into the training set. We have $\\mathbf{m}$ training example then $\\mathbf{i = 1,2,3,...m}$.\n",
    "\n",
    "The goal of supervised learning is to learn a *hypothesis function $\\mathbf{h}$*, for a given training set that can used to estimate $\\mathbf{y}$ based on $\\mathbf{x}$. So hypothesis fuction represented as \n",
    "\n",
    "$$\\mathbf{ h_\\theta(x_{i}) = \\theta_0 + \\theta_1x_i }$$   \n",
    "$\\mathbf{\\theta_0,\\theta_1}$ are parameter of hypothesis. This is equation for **Simple / Univariate Linear regression**. \n",
    "\n",
    "For **Multiple Linear regression** more than one independent variable exit then we will use $\\mathbf{x_{ij}}$ to denote indepedent variable and $\\mathbf{y_{i}}$ to denote dependent variable. We have $\\mathbf{n}$ independent variable then $\\mathbf{j=1,2,3 ..... n}$. The hypothesis function represented as\n",
    "\n",
    "$$\\mathbf{h_\\theta(x_{i}) = \\theta_0 + \\theta_1x_{i1} + \\theta_2 x_{i2} + ..... \\theta_j x_{ij} ...... \\theta_n  x_{mn} }$$\n",
    "$\\mathbf{\\theta_0,\\theta_1,....\\theta_j....\\theta_n }$ are parameter of hypothesis,\n",
    "$\\mathbf{m}$ Number of training exaples,\n",
    "$\\mathbf{n}$ Number of independent variable,\n",
    "$\\mathbf{x_{ij}}$ is $\\mathbf{i^{th}}$ training exaple of $\\mathbf{j^{th}}$ feature.\n"
   ]
  },
  {
   "cell_type": "markdown",
   "metadata": {},
   "source": [
    "When we look at the shape of dataset it has return as (1338,7).So there are $\\mathbf{m=1338}$ training exaple and $\\mathbf{n=7}$ independent variable. The target variable here is charges and remaining six variables such as age, sex, bmi, children, smoker, region are independent variable. There are multiple independent variable, so we need to fit Multiple linear regression. Then the hypothesis function looks like\n",
    "\n",
    "$$\\mathbf{ h_\\theta(x_{i}) = \\theta_0+\\theta_1 age + \\theta_2 sex + \\theta_3 bmi + \\theta_4 children + \\theta_5 smoker + \\theta_6 region }$$\n",
    "\n",
    "This multiple linear regression equation for given dataset.  \n",
    "If $\\mathbf{i=1}$ then \n",
    "$$\\mathbf{h_\\theta(x_{1}) = \\theta_0+\\theta_1 19 + \\theta_2 female + \\theta_3 27.900 + \\theta_4 1 + \\theta_5 yes + \\theta_6 southwest}$$ \n",
    "$$\\mathbf{y_1 = 16884.92400}$$\n",
    "If $\\mathbf{i=3}$ then $$\\mathbf{h_\\theta(x_{3}) = \\theta_0+\\theta_1 28 + \\theta_2 male + \\theta_3 33.000 + \\theta_4 3 + \\theta_5 no + \\theta_6 northwest}$$ \n",
    "$$\\mathbf{y_3 = 4449.46200}$$\n",
    "\n",
    "Coefficients $\\mathbf{\\theta_0 , \\theta_1 , \\theta_2 , \\theta_3 , \\theta_4 , \\theta_5 , \\theta_6 }$ are the parameters that will be the subject of the model computation, i.e. that set of values that minimize the prediction error.\n",
    "\n",
    "Each coefficient $\\mathbf{\\theta_0}$ affects to each value in any row of the dataset. Coefficients are represented as a column vector, and each row can be represented as a row vector. let's see the example of the first row:\n",
    "\n",
    "$$\\mathbf{x_1 = \\left(\\begin{matrix} x_{11} & x_{12} & x_{13} & x_{14} & x_{15} & x_{16}\\end{matrix}\\right) = \\left(\\begin{matrix} 19 & female & 27.900 & 1 & no & northwest\\end{matrix}\\right) }$$\n",
    "\n",
    "Hence the charge for the first row (see expression for $\\mathbf{i=1}$ above) can be expressed in matrix formulation as the dot product of the row vector (values) by the column vector (coefficients)."
   ]
  },
  {
   "cell_type": "markdown",
   "metadata": {
    "tags": []
   },
   "source": [
    "## Matrix Formulation\n",
    "\n",
    "Generalizing, we can write the row vector as $ \\mathbf{ x_{ij}} = \\left( \\begin{smallmatrix} \\mathbf{x_{i1}} & \\mathbf{x_{i2}} &.&.&.& \\mathbf{x_{in}} \\end{smallmatrix} \\right)$, where **i** is the number of the row.\n",
    "\n",
    "Now we combine all row vectors into single input matrix of size $(m,n)$ and denoted it by $\\mathbf{X}$ input matrix, which consist of all training exaples,\n",
    "$$\\mathbf{X} = \\left( \\begin{smallmatrix} x_{11} & x_{12} &.&.&.&.& x_{1n}\\\\\n",
    "                                x_{21} & x_{22} &.&.&.&.& x_{2n}\\\\\n",
    "                                x_{31} & x_{32} &.&.&.&.& x_{3n}\\\\\n",
    "                                .&.&.&. &.&.&.& \\\\\n",
    "                                .&.&.&. &.&.&.& \\\\\n",
    "                                x_{m1} & x_{m2} &.&.&.&.&. x_{mn}\\\\\n",
    "                                \\end{smallmatrix} \\right)_{(m,n)}$$\n",
    "\n",
    "We represent parameter of function and dependent variable in vactor form as  \n",
    "$$\\theta = \\left (\\begin{matrix} \\theta_0 \\\\ \\theta_1 \\\\ .\\\\.\\\\ \\theta_j\\\\.\\\\.\\\\ \\theta_n \\end {matrix}\\right)_{(n+1,1)} \n",
    "\\mathbf{ y } = \\left (\\begin{matrix} y_1\\\\ y_2\\\\. \\\\. \\\\ y_i \\\\. \\\\. \\\\ y_m \\end{matrix} \\right)_{(m,1)}$$\n",
    "\n",
    "So we represent hypothesis function in vectorize form $$\\mathbf{ y = h_\\theta{(x)} = X\\theta}$$.\n",
    "\n"
   ]
  },
  {
   "cell_type": "markdown",
   "metadata": {},
   "source": [
    "In above plot we fit regression line into the variables."
   ]
  },
  {
   "cell_type": "markdown",
   "metadata": {},
   "source": [
    "## Cost function\n",
    "\n",
    "  A cost function measures how much error in the model is in terms of ability to estimate the relationship between $x$ and $y$. \n",
    "  We can measure the accuracy of our hypothesis function by using a cost function. This takes an average difference of observed dependent variable in the given the dataset and those predicted by the hypothesis function.\n",
    "  \n",
    "$$\\mathbf{ J(\\theta) = \\frac{1}{m} \\sum_{i=1}^{m}(\\hat{y}_i - y_i)^2}$$\n",
    "$$\\mathbf{J(\\theta) =  \\frac{1}{m} \\sum_{i=1}^{m}(h_\\theta(x_i) - y_i)^2}$$\n",
    "To implement the linear regression, take training example add an extra column that is $x_0$ feature, where $\\mathbf{x_0=1}$. $\\mathbf{x_{o}} = \\left( \\begin{smallmatrix} x_{i0} & x_{i1} & x_{i2} &.&.&.& x_{mi} \\end{smallmatrix} \\right)$,where $\\mathbf{x_{i0} =0}$ and input matrix will become as\n",
    "\n",
    "$$\\mathbf{X} = \\left( \\begin{smallmatrix} x_{10} & x_{11} & x_{12} &.&.&.&.& x_{1n}\\\\\n",
    "                                x_{20} & x_{21} & x_{22} &.&.&.&.& x_{2n}\\\\\n",
    "                                x_{30} & x_{31} & x_{32} &.&.&.&.& x_{3n}\\\\\n",
    "                                 .&.&.&.&. &.&.&.& \\\\\n",
    "                                 .&.&.&.&. &.&.&.& \\\\\n",
    "                                x_{m0} & x_{m1} & x_{m2} &.&.&.&.&. x_{mn}\\\\\n",
    "                                \\end{smallmatrix} \\right)_{(m,n+1)}$$  \n",
    "Each of the m input samples is similarly a column vector with n+1 rows $x_0$ being 1 for our convenience, that is $\\mathbf{x_{10},x_{20},x_{30} .... x_{m0} =1}$. Now we rewrite the ordinary least square cost function in matrix form as\n",
    "$$\\mathbf{J(\\theta) = \\frac{1}{m} (X\\theta - y)^T(X\\theta - y)}$$\n",
    "\n",
    "Let's look at the matrix multiplication concept,the multiplication of two matrix happens only if number of column of firt matrix is equal to number of row of second matrix. Here input matrix $\\mathbf{X}$ of size $\\mathbf{(m,n+1)}$, parameter of function is of size $(n+1,1)$ and dependent variable vector of size $\\mathbf{(m,1)}$. The product of matrix $\\mathbf{X_{(m,n+1)}\\theta_{(n+1,1)}}$ will return a vector of size $\\mathbf{(m,1)}$, then product of $\\mathbf{(X\\theta - y)^T_{(1,m})(X\\theta - y)_{(m,1)}}$ will return size of unit vector. "
   ]
  },
  {
   "cell_type": "markdown",
   "metadata": {},
   "source": [
    "## Normal Equation\n",
    "The normal equation is an analytical solution to the linear regression problem with a ordinary least square cost function. To minimize our cost function, take partial derivative of $\\mathbf{J(\\theta)}$ with respect to $\\theta$ and equate to $0$. The derivative of function is nothing but if a small change in input what would be the change in output of function.\n",
    " $$\\mathbf{min_{\\theta_0,\\theta_1..\\theta_n} J({\\theta_0,\\theta_1..\\theta_n})}$$\n",
    " $$\\mathbf{\\frac{\\partial J(\\theta_j)}{\\partial\\theta_j} =0}$$ \n",
    " where $\\mathbf{j = 0,1,2,....n}$\n",
    " \n",
    " Now we will apply partial derivative of our cost function,\n",
    " $$\\mathbf{\\frac{\\partial J(\\theta_j)}{\\partial\\theta_j} = \\frac{\\partial }{\\partial \\theta} \\frac{1}{m}(X\\theta - y)^T(X\\theta - y) }$$\n",
    " I will throw $\\mathbf{\\frac {1}{m}}$ part away since we are going to compare a derivative to $0$. And solve $\\mathbf{J(\\theta)}$,  \n",
    " \n",
    " $$\\mathbf{J(\\theta) = (X\\theta -y)^T(X\\theta - y)}$$\n",
    " $$\\mathbf{= (X\\theta)^T - y^T)(X\\theta -y)}$$   \n",
    " $$\\mathbf{= (\\theta^T X^T - y^T)(X\\theta - y)}$$\n",
    " $$\\mathbf{= \\theta^T X^T X \\theta - y^T X \\theta - \\theta^T X^T y + y^T y}$$\n",
    " $$\\mathbf{ = \\theta^T X^T X \\theta  - 2\\theta^T X^T y + y^T y}$$\n",
    "\n",
    "Here $\\mathbf{y^T_{(1,m)} X_{(m,n+1)} \\theta_{(n+1,1)} = \\theta^T_{(1,n+1)} X^T_{(n+1,m)} y_{(m,1)}}$ because unit vector.\n",
    "\n",
    "$$\\mathbf{\\frac{\\partial J(\\theta)}{\\partial \\theta} = \\frac{\\partial}{\\partial \\theta} (\\theta^T X^T X \\theta  - 2\\theta^T X^T y + y^T y )}$$\n",
    "$$\\mathbf{ = X^T X \\frac {\\partial \\theta^T \\theta}{\\partial\\theta} - 2 X^T y \\frac{\\partial \\theta^T}{\\partial\\theta} + \\frac {\\partial y^T y}{\\partial\\theta}}$$\n",
    "Partial derivative $\\mathbf{\\frac {\\partial x^2}{\\partial x} = 2x}$, $\\mathbf{\\frac {\\partial kx^2}{\\partial x} = kx}$,\n",
    "$\\mathbf{\\frac {\\partial Constact}{\\partial x} = 0}$\n",
    "\n",
    "$$\\mathbf{\\frac{\\partial J(\\theta)}{\\partial\\theta} = X^T X 2\\theta - 2X^T y +0}$$\n",
    "$$\\mathbf{ 0 = 2X^T X \\theta - 2X^T y}$$\n",
    "$$\\mathbf{ X^T X \\theta = X^T }$$\n",
    "$$\\mathbf{ \\theta = (X^TX)^{-1} X^Ty }$$\n",
    "this the normal equation for linear regression"
   ]
  },
  {
   "cell_type": "markdown",
   "metadata": {},
   "source": [
    "## Model evaluation\n",
    "We will predict value for target variable by using our model parameter for test data set. Then compare the predicted value with actual valu in test set. We compute **Mean Square Error** using formula \n",
    "$$\\mathbf{ J(\\theta) = \\frac{1}{m} \\sum_{i=1}^{m}(\\hat{y}_i - y_i)^2}$$\n",
    "\n",
    "$\\mathbf{R^2}$ is statistical measure of how close data are to the fitted regression line. $\\mathbf{R^2}$ is always between 0 to 100%. 0% indicated that model explains none of the variability of the response data around it's mean. 100% indicated that model explains all the variablity of the response data around the mean.\n",
    "\n",
    "$$\\mathbf{R^2 = 1 - \\frac{SSE}{SST}}$$\n",
    "**SSE = Sum of Square Error**  \n",
    "**SST = Sum of Square Total**  \n",
    "$$\\mathbf{SSE = \\sum_{i=1}^{m}(\\hat{y}_i - y_i)^2}$$\n",
    "$$\\mathbf{SST = \\sum_{i=1}^{m}(y_i - \\bar{y}_i)^2}$$\n",
    "Here $\\mathbf{\\hat{y}}$ is predicted value and $\\mathbf{\\bar{y}}$ is mean value of $\\mathbf{y}$."
   ]
  },
  {
   "cell_type": "markdown",
   "metadata": {},
   "source": [
    "## Model Validation\n",
    "In order to validated model we need to check few assumption of linear regression model. The common assumption for *Linear Regression* model are following\n",
    "1. Linear Relationship: In linear regression the relationship between the dependent and independent variable to be *linear*. This can be checked by scatter ploting Actual value Vs Predicted value\n",
    "2. The residual error plot should be *normally* distributed.\n",
    "3. The *mean* of *residual error* should be 0 or close to 0 as much as possible\n",
    "4. The linear regression require all variables to be multivariate normal.\n",
    "5. Linear regession assumes that there is little or no *Multicollinearity in the data. Multicollinearity occurs when the independent variables are too highly correlated with each other. The variance inflation factor *VIF* identifies correlation between independent variables and strength of that correlation. $\\mathbf{VIF = \\frac {1}{1-R^2}}$, If VIF >1 & VIF <5 moderate correlation, VIF < 5 critical level of multicollinearity.\n",
    "6. Homoscedasticity: The data are homoscedastic meaning the residuals are equal across the regression line. We can look at residual Vs fitted value scatter plot. If heteroscedastic plot would exhibit a funnel shape pattern."
   ]
  }
 ],
 "metadata": {
  "kernelspec": {
   "display_name": "Python 3 (ipykernel)",
   "language": "python",
   "name": "python3"
  },
  "language_info": {
   "codemirror_mode": {
    "name": "ipython",
    "version": 3
   },
   "file_extension": ".py",
   "mimetype": "text/x-python",
   "name": "python",
   "nbconvert_exporter": "python",
   "pygments_lexer": "ipython3",
   "version": "3.9.12"
  },
  "vscode": {
   "interpreter": {
    "hash": "aee8b7b246df8f9039afb4144a1f6fd8d2ca17a180786b69acc140d282b71a49"
   }
  }
 },
 "nbformat": 4,
 "nbformat_minor": 4
}
